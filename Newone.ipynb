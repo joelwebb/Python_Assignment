{
 "cells": [
  {
   "cell_type": "markdown",
   "metadata": {
    "collapsed": true,
    "deletable": true,
    "editable": true
   },
   "source": [
    "# This is Joe Webb's Final Jupyter Notebook\n",
    "\n",
    "\n"
   ]
  },
  {
   "cell_type": "markdown",
   "metadata": {},
   "source": [
    "Here Joe Webb was finally able to get his PC to handle python. Sorry for the delay.\n",
    "This assigment contains all the code for the Python assigment."
   ]
  },
  {
   "cell_type": "code",
   "execution_count": null,
   "metadata": {
    "collapsed": false
   },
   "outputs": [],
   "source": [
    "# from Bio import SeqIO\n",
    "from Bio.Data import CodonTable\n",
    "import pandas as pd\n",
    "from Bio import SeqIO\n",
    "\n"
   ]
  },
  {
   "cell_type": "markdown",
   "metadata": {},
   "source": [
    "Now that we have imported the appropriate files, we can start on our first function. \n"
   ]
  },
  {
   "cell_type": "markdown",
   "metadata": {},
   "source": [
    "# #Function number 1##"
   ]
  },
  {
   "cell_type": "markdown",
   "metadata": {},
   "source": [
    "First I will create a function that uses a fasta file.\n",
    "\n",
    "This function will create a dictionary that will be filled with sequence data from the fasta file. \n",
    "\n",
    "Then I will loop through the file and utilize a new function to take data from the fasta file and return unique records. Each record will be split and given a species name, thus generating a list of the names. \n",
    "\n",
    "Finally, this will fill the dictionary with each new record and then return the data from the dictionary"
   ]
  },
  {
   "cell_type": "code",
   "execution_count": null,
   "metadata": {
    "collapsed": true
   },
   "outputs": [],
   "source": [
    "## 1 ##\n",
    "    \n",
    "    def get_sequences_from_file(fasta_fn):\n",
    "\n",
    "    sequence_data_dict = {}\n",
    "    \n",
    "    for record in SeqIO.parse(fasta_fn, \"fasta\"):\n",
    "    \n",
    "        description = record.description.split()\n",
    "        \n",
    "        species_name = description[1] + \" \" + description[2] \n",
    "        \n",
    "        sequence_data_dict[species_name] = record.seq \n",
    "             \n",
    "    return(sequence_data_dict)\n",
    "\n",
    "    "
   ]
  },
  {
   "cell_type": "markdown",
   "metadata": {},
   "source": [
    "# #Function 2 ##"
   ]
  },
  {
   "cell_type": "markdown",
   "metadata": {},
   "source": [
    "First I need to generate a list of codons in a table format from NCBI\n",
    "\n",
    "Then I will need to create the list of AAs through its sequence and then have a loop reaad every 3 characters to stand as a codon\n",
    "\n",
    "Then I will need to translate each codon using my table and make sure there are no stop codons. \n",
    "If there is a stop, then we need to hop out of the loop. \n"
   ]
  },
  {
   "cell_type": "code",
   "execution_count": null,
   "metadata": {
    "collapsed": true
   },
   "outputs": [],
   "source": [
    "def translate_function(string_nucleotides): \n",
    "    mito_table = CodonTable.unambiguous_dna_by_name[\"Vertebrate Mitochondrial\"] \n",
    "    \n",
    "    aa_seq_string =\"\"\n",
    "    for i in range(0, len(string_nucleotides), 3):  \n",
    "    \n",
    "        codon = string_nucleotides[i:i+3]\n",
    "        if codon in mito_table.stop_codons:\n",
    "            break        \n",
    "            \n",
    "        aminoacid = mito_table.forward_table[codon] \n",
    "          \n",
    "        aa_seq_string += aminoacid        \n",
    "        \n",
    "    return(aa_seq_string)"
   ]
  },
  {
   "cell_type": "markdown",
   "metadata": {},
   "source": [
    "# # 3 ##"
   ]
  },
  {
   "cell_type": "markdown",
   "metadata": {},
   "source": [
    "This is my alternative function"
   ]
  },
  {
   "cell_type": "code",
   "execution_count": null,
   "metadata": {
    "collapsed": true
   },
   "outputs": [],
   "source": [
    "## 3 ##\n",
    "\n",
    "from Bio.Seq import Seq\n",
    "\n",
    "def Alt_translate(string_nucleotides): \n",
    "\n",
    "    coding_dna = Seq(string_nucleotides) \n",
    "    \n",
    "    result = string_nucleotides.translate(table=\"Vertebrate Mitochondrial\", to_stop=True) \n",
    "    \n",
    "    AA_Sequence = str(result) \n",
    "    \n",
    "    return(AA_Sequence) "
   ]
  },
  {
   "cell_type": "markdown",
   "metadata": {},
   "source": [
    "# # 4 ##"
   ]
  },
  {
   "cell_type": "markdown",
   "metadata": {},
   "source": [
    "This script should use an amino acid sequence as input and output the proportion of each type (charged, polar or hydrophobic)\n",
    "\n",
    "This script will create variables to represent each type of AA and then use numbers to represent each AA sequence that corresponds to that type\n",
    "\n",
    "Then I will use a 4 loop to read the sequence and use a counter to count the number of AAs in each category\n",
    "\n",
    "Then I will store the output of the counters and divide by the size of the AA sequence."
   ]
  },
  {
   "cell_type": "code",
   "execution_count": null,
   "metadata": {
    "collapsed": true
   },
   "outputs": [],
   "source": [
    "\n",
    "##### 4 #####\n",
    "def get_proportion_aa(aa_seq):\n",
    "   \n",
    "    charged = ['R','K','D','E'] \n",
    "    polar = ['Q','N','H','S','T','Y','C','M','W']\n",
    "    hydrophobic = ['A','I','L','F','V','P','G']\n",
    "    c_count=0\n",
    "    p_count=0\n",
    "    h_count=0\n",
    "    \n",
    "    for aa in str(aa_seq):\n",
    "        if aa in charged:\n",
    "            c_count += 1\n",
    "            \n",
    "        elif aa in polar:\n",
    "            p_count += 1\n",
    "            \n",
    "        elif aa in hydrophobic:\n",
    "            h_count += 1\n",
    "            \n",
    "    proportion_type = [c_count/len(aa_seq), p_count/len(aa_seq), h_count/len(aa_seq)]\n",
    "    \n",
    "    return proportion_type"
   ]
  },
  {
   "cell_type": "markdown",
   "metadata": {},
   "source": [
    "# # 5 ##"
   ]
  },
  {
   "cell_type": "markdown",
   "metadata": {},
   "source": [
    "Here is the main function that puts the pieces together"
   ]
  },
  {
   "cell_type": "code",
   "execution_count": null,
   "metadata": {
    "collapsed": true
   },
   "outputs": [],
   "source": [
    "cytb_seqs = get_sequences_from_file(\"bears_cytb.fasta\") \n",
    "\n",
    "bear_df = pd.read_csv(\"bears_data.csv\") \n",
    "\n",
    "species_list = list(bear_df.species)\n",
    "\n",
    "for key, value in cytb_seqs.items():\n",
    "    aa_seq =Alt_translate(str(value)) \n",
    "    \n",
    "    proportion = get_proportion_aa(aa_seq) \n",
    "    \n",
    "    bear_df.loc[bear_df.species==key, 'charged'] = proportion[0]\n",
    "    \n",
    "    bear_df.loc[bear_df.species==key, 'polar'] = proportion[1]\n",
    "    \n",
    "    bear_df.loc[bear_df.species==key, 'hydrophobic'] = proportion[2] \n",
    "    \n",
    "\n",
    "import seaborn as sea\n",
    "\n",
    "bar_chart = sea.barplot(x = 'species', y = 'mass', data=bear_df) \n",
    "\n",
    "bar_chart.set_xticklabels(labels = bear_df.species, rotation=30, horizontalalignment='right') "
   ]
  },
  {
   "cell_type": "markdown",
   "metadata": {},
   "source": [
    "# # 6 # # "
   ]
  },
  {
   "cell_type": "markdown",
   "metadata": {},
   "source": [
    "The largest bear species is the Ursus spelaeus.\n",
    "\n",
    "The other thing that is interesting about this species is that the spelaeus does not demonstrate a significantly difference gene sequence than the other species.\n"
   ]
  },
  {
   "cell_type": "markdown",
   "metadata": {},
   "source": [
    "# # 7 # #\n"
   ]
  },
  {
   "cell_type": "markdown",
   "metadata": {},
   "source": [
    "Here we are going to import using numpy and then plot our function. "
   ]
  },
  {
   "cell_type": "code",
   "execution_count": null,
   "metadata": {
    "collapsed": true
   },
   "outputs": [],
   "source": [
    "import numpy as num\n",
    "import matplotlib.pyplot as mpl\n",
    "ind = num.arange(len(bear_df))\n",
    "p1= mpl.bar(ind, bear_df.charged)\n",
    "p2= mpl.bar(ind, bear_df.polar, bottom = bear_df.charged)\n",
    "p3= mpl.bar(ind, bear_df.hydrophobic, bottom = bear_df.charged + bear_df.polar)\n",
    "mpl.xlabel('Ursus Species')\n",
    "mpl.xticks(ind, bear_df.species, rotation=30, horizontalalignment='right')\n",
    "mpl.ylabel('Proportion')\n",
    "mpl.yticks(np.arange(0, 1.1, 0.1))\n",
    "mpl.legend((p1[0], p2[0], p3[0]), ('Charged', 'Polar', 'Hydrophobic'), bbox_to_anchor=(1.01, 1.01))\n",
    "mpl.show()\n"
   ]
  },
  {
   "cell_type": "markdown",
   "metadata": {},
   "source": [
    "# # 8 # #"
   ]
  },
  {
   "cell_type": "markdown",
   "metadata": {},
   "source": [
    "Final Section! Woo hoo! \n",
    "Our task here is to simply save the resulting data frame"
   ]
  },
  {
   "cell_type": "code",
   "execution_count": null,
   "metadata": {
    "collapsed": true
   },
   "outputs": [],
   "source": [
    "bear_df.to_csv('bears_mass_cytb.csv')"
   ]
  },
  {
   "cell_type": "markdown",
   "metadata": {},
   "source": [
    "# # Bonus # #"
   ]
  },
  {
   "cell_type": "markdown",
   "metadata": {},
   "source": [
    "Are there any other commands that we can come up with?\n",
    "Well, we could examine the G/C content of the dataset pretty easily. Heck, we could even look at A/T content too!"
   ]
  },
  {
   "cell_type": "code",
   "execution_count": null,
   "metadata": {
    "collapsed": true
   },
   "outputs": [],
   "source": [
    "Bonus = get_sequences_from_file(\"bears_cytb.fasta\") \n",
    "\n",
    "nuc_count=pd.DataFrame\n",
    "\n",
    "for data,value in Bonus.items():\n",
    " \n",
    "    G=0\n",
    "    A=0\n",
    "    C=0\n",
    "    T=0\n",
    "    \n",
    "    for i in range(0,len(value)):\n",
    "    \n",
    "        nuc=value[j]\n",
    "        if nuc=='G':\n",
    "            G=G+1\n",
    "       \n",
    "        elif nuc=='A':\n",
    "            A=A+1\n",
    "     \n",
    "        elif nuc=='T':\n",
    "            T=T+1\n",
    "\n",
    "        else:\n",
    "            C=C+1 \n",
    "    print(data)\n",
    "    print(\"G={}, A={}, C={}, T={}\".format(G,A,C,T))"
   ]
  }
 ],
 "metadata": {
  "kernelspec": {
   "display_name": "Python 2",
   "language": "python",
   "name": "python2"
  },
  "language_info": {
   "codemirror_mode": {
    "name": "ipython",
    "version": 3
   },
   "file_extension": ".py",
   "mimetype": "text/x-python",
   "name": "python",
   "nbconvert_exporter": "python",
   "pygments_lexer": "ipython3",
   "version": "3.6.0"
  }
 },
 "nbformat": 4,
 "nbformat_minor": 2
}
